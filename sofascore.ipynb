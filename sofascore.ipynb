{
 "cells": [
  {
   "cell_type": "markdown",
   "id": "8ef86a00",
   "metadata": {},
   "source": [
    "# Sofascore w/ ScraperFC"
   ]
  },
  {
   "cell_type": "code",
   "execution_count": 1,
   "id": "2d8d5d9e",
   "metadata": {},
   "outputs": [],
   "source": [
    "from ScraperFC.sofascore import comps"
   ]
  },
  {
   "cell_type": "code",
   "execution_count": 2,
   "id": "b12e5afa",
   "metadata": {},
   "outputs": [
    {
     "data": {
      "text/plain": [
       "{'Champions League': 7,\n",
       " 'Europa League': 679,\n",
       " 'Europa Conference League': 17015,\n",
       " 'EPL': 17,\n",
       " 'La Liga': 8,\n",
       " 'Bundesliga': 35,\n",
       " 'Serie A': 23,\n",
       " 'Ligue 1': 34,\n",
       " 'Turkish Super Lig': 52,\n",
       " 'Argentina Liga Profesional': 155,\n",
       " 'Argentina Copa de la Liga Profesional': 13475,\n",
       " 'Liga 1 Peru': 406,\n",
       " 'Copa Libertadores': 384,\n",
       " 'MLS': 242,\n",
       " 'USL Championship': 13363,\n",
       " 'USL1': 13362,\n",
       " 'USL2': 13546,\n",
       " 'Saudi Pro League': 955,\n",
       " 'World Cup': 16,\n",
       " 'Euros': 1,\n",
       " 'Gold Cup': 140,\n",
       " \"Women's World Cup\": 290}"
      ]
     },
     "execution_count": 2,
     "metadata": {},
     "output_type": "execute_result"
    }
   ],
   "source": [
    "comps"
   ]
  },
  {
   "cell_type": "code",
   "execution_count": null,
   "id": "29388574",
   "metadata": {},
   "outputs": [
    {
     "ename": "ModuleNotFoundError",
     "evalue": "No module named 'fantasy_analytics'",
     "output_type": "error",
     "traceback": [
      "\u001b[0;31m---------------------------------------------------------------------------\u001b[0m",
      "\u001b[0;31mModuleNotFoundError\u001b[0m                       Traceback (most recent call last)",
      "Cell \u001b[0;32mIn[3], line 1\u001b[0m\n\u001b[0;32m----> 1\u001b[0m \u001b[38;5;28;01mfrom\u001b[39;00m\u001b[38;5;250m \u001b[39m\u001b[38;5;21;01mfantasy_analytics\u001b[39;00m\u001b[38;5;21;01m.\u001b[39;00m\u001b[38;5;21;01mcustom_fbref\u001b[39;00m\u001b[38;5;250m \u001b[39m\u001b[38;5;28;01mimport\u001b[39;00m CustomFBRef\n\u001b[1;32m      2\u001b[0m LEAGUE \u001b[38;5;241m=\u001b[39m \u001b[38;5;124m\"\u001b[39m\u001b[38;5;124mEPL\u001b[39m\u001b[38;5;124m\"\u001b[39m\n\u001b[1;32m      4\u001b[0m fbr \u001b[38;5;241m=\u001b[39m CustomFBRef()\n",
      "\u001b[0;31mModuleNotFoundError\u001b[0m: No module named 'fantasy_analytics'"
     ]
    }
   ],
   "source": [
    "from src.fantasy_analytics.custom_fbref import CustomFBRef\n",
    "\n",
    "LEAGUE = \"EPL\"\n",
    "\n",
    "fbr = CustomFBRef()\n",
    "seasons = fbr.get_valid_seasons(LEAGUE)\n",
    "seasons"
   ]
  },
  {
   "cell_type": "code",
   "execution_count": null,
   "id": "2b3f443e",
   "metadata": {},
   "outputs": [],
   "source": [
    "year, _ = list(seasons.items())[0]\n",
    "\n",
    "season_link = fbr.get_season_link(year, LEAGUE)\n",
    "match_links = fbr.get_match_links(year, LEAGUE)\n",
    "match_links"
   ]
  },
  {
   "cell_type": "code",
   "execution_count": null,
   "id": "7e028a80",
   "metadata": {},
   "outputs": [],
   "source": [
    "df = fbr.scrape_match_lineups(match_links[0])\n",
    "df"
   ]
  }
 ],
 "metadata": {
  "kernelspec": {
   "display_name": ".venv",
   "language": "python",
   "name": "python3"
  },
  "language_info": {
   "codemirror_mode": {
    "name": "ipython",
    "version": 3
   },
   "file_extension": ".py",
   "mimetype": "text/x-python",
   "name": "python",
   "nbconvert_exporter": "python",
   "pygments_lexer": "ipython3",
   "version": "3.10.12"
  }
 },
 "nbformat": 4,
 "nbformat_minor": 5
}
